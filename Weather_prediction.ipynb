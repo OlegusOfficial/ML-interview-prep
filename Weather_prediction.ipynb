{
  "nbformat": 4,
  "nbformat_minor": 0,
  "metadata": {
    "kernelspec": {
      "display_name": "Python 3",
      "language": "python",
      "name": "python3"
    },
    "language_info": {
      "codemirror_mode": {
        "name": "ipython",
        "version": 3
      },
      "file_extension": ".py",
      "mimetype": "text/x-python",
      "name": "python",
      "nbconvert_exporter": "python",
      "pygments_lexer": "ipython3",
      "version": "3.7.6"
    },
    "colab": {
      "provenance": [],
      "collapsed_sections": [
        "zkTVtWOT1eiY"
      ]
    }
  },
  "cells": [
    {
      "cell_type": "markdown",
      "metadata": {
        "id": "DUB-vr3j1eiG"
      },
      "source": [
        "Поработаем над предсказанием погоды. Будем использовать датасет weather.csv, ПЕРВЫЕ 75% (shuffle = False) возьмем для обучения, последние 25% - для тестирования.\n",
        "\n",
        "Построим 4 модели которые будут предсказывать целевую переменную <b>RainTomorrow</b> с помощью:\n",
        "\n",
        "   1. логистической регрессии [sklearn.linear_model.LogisticRegression](https://scikit-learn.org/stable/modules/generated/sklearn.linear_model.LogisticRegression.html#sklearn.linear_model.LogisticRegression)\n",
        "   \n",
        "   2. метода ближайших соседей [sklearn.neighbors](https://scikit-learn.org/stable/modules/neighbors.html)\n",
        " \n",
        "   3. Байесовского классификатора [sklearn.naive_bayes](https://scikit-learn.org/stable/modules/naive_bayes.html)\n",
        "   \n",
        "   4. логистической регрессии реализованной самостоятельно\n",
        "\n",
        "Затем сравним результаты моделей (по качеству и времени выполнения) и сделаем вывод о том, какая модель и с какими параметрами даёт лучшие результаты.\n",
        "\n",
        "\n",
        "Краткое описание данных:\n",
        "\n",
        "    Date - Дата наблюдений\n",
        "    Location - Название локации, в которой расположена метеорологическая станция\n",
        "    MinTemp - Минимальная температура в градусах цельсия\n",
        "    MaxTemp - Максимальная температура в градусах цельсия\n",
        "    Rainfall - Количество осадков, зафиксированных за день в мм\n",
        "    Evaporation - Так называемое \"pan evaporation\" класса А (мм) за 24 часа до 9 утра\n",
        "    Sunshine - Число солнечных часов за день\n",
        "    WindGustDir - направление самого сильного порыва ветра за последние 24 часа\n",
        "    WindGustSpeed - скорость (км / ч) самого сильного порыва ветра за последние 24 часа\n",
        "    WindDir9am - направление ветра в 9 утра"
      ]
    },
    {
      "cell_type": "code",
      "metadata": {
        "scrolled": true,
        "id": "lhUWWO6F1eiT"
      },
      "source": [
        "import warnings\n",
        "warnings.filterwarnings(\"ignore\")\n",
        "import pandas as pd\n",
        "import numpy as np\n",
        "import seaborn as sns\n",
        "import time\n",
        "from sklearn.datasets import make_classification\n",
        "import matplotlib.pyplot as plt\n",
        "%matplotlib notebook\n",
        "%matplotlib inline"
      ],
      "execution_count": null,
      "outputs": []
    },
    {
      "cell_type": "code",
      "metadata": {
        "id": "Ake4wsnv1eiV"
      },
      "source": [
        "url = \"https://github.com/OlegusOfficial/ML/blob/main/weather.csv?raw=true\"\n",
        "X = pd.read_csv(url, index_col=0)"
      ],
      "execution_count": null,
      "outputs": []
    },
    {
      "cell_type": "code",
      "metadata": {
        "id": "ksdgldMz1eiW"
      },
      "source": [
        "y = X.RainTomorrow.replace({'No':0, 'Yes': 1})"
      ],
      "execution_count": null,
      "outputs": []
    },
    {
      "cell_type": "code",
      "metadata": {
        "id": "jAt3Piks1eiX"
      },
      "source": [
        "del X['RainTomorrow']"
      ],
      "execution_count": null,
      "outputs": []
    },
    {
      "cell_type": "markdown",
      "metadata": {
        "id": "2pneHcnpGjt_"
      },
      "source": [
        "### Логистическая регрессия"
      ]
    },
    {
      "cell_type": "code",
      "metadata": {
        "id": "EsugLFq8CqeW"
      },
      "source": [
        "from sklearn.model_selection import train_test_split\n",
        "from sklearn.linear_model import LogisticRegression\n",
        "from sklearn import preprocessing\n",
        "\n",
        "#заменим текстовую фичу RainToday на 0, 1\n",
        "X = X.replace({'RainToday' :{'No': 0, 'Yes': 1}})\n",
        "X_train, X_test, y_train, y_test = train_test_split(X, y, test_size=0.25, random_state=10, shuffle=False)"
      ],
      "execution_count": null,
      "outputs": []
    },
    {
      "cell_type": "code",
      "metadata": {
        "colab": {
          "base_uri": "https://localhost:8080/",
          "height": 307
        },
        "id": "ZM2PySliV67W",
        "outputId": "3e1755c2-acf6-4727-9d20-55ca924c7e99"
      },
      "source": [
        "X_train.head()"
      ],
      "execution_count": null,
      "outputs": [
        {
          "output_type": "execute_result",
          "data": {
            "text/html": [
              "<div>\n",
              "<style scoped>\n",
              "    .dataframe tbody tr th:only-of-type {\n",
              "        vertical-align: middle;\n",
              "    }\n",
              "\n",
              "    .dataframe tbody tr th {\n",
              "        vertical-align: top;\n",
              "    }\n",
              "\n",
              "    .dataframe thead th {\n",
              "        text-align: right;\n",
              "    }\n",
              "</style>\n",
              "<table border=\"1\" class=\"dataframe\">\n",
              "  <thead>\n",
              "    <tr style=\"text-align: right;\">\n",
              "      <th></th>\n",
              "      <th>Date</th>\n",
              "      <th>Location</th>\n",
              "      <th>MinTemp</th>\n",
              "      <th>MaxTemp</th>\n",
              "      <th>Rainfall</th>\n",
              "      <th>Evaporation</th>\n",
              "      <th>Sunshine</th>\n",
              "      <th>WindGustDir</th>\n",
              "      <th>WindGustSpeed</th>\n",
              "      <th>WindDir9am</th>\n",
              "      <th>WindDir3pm</th>\n",
              "      <th>WindSpeed9am</th>\n",
              "      <th>WindSpeed3pm</th>\n",
              "      <th>Humidity9am</th>\n",
              "      <th>Humidity3pm</th>\n",
              "      <th>Pressure9am</th>\n",
              "      <th>Pressure3pm</th>\n",
              "      <th>Cloud9am</th>\n",
              "      <th>Cloud3pm</th>\n",
              "      <th>Temp9am</th>\n",
              "      <th>Temp3pm</th>\n",
              "      <th>RainToday</th>\n",
              "    </tr>\n",
              "  </thead>\n",
              "  <tbody>\n",
              "    <tr>\n",
              "      <th>0</th>\n",
              "      <td>2008-12-01</td>\n",
              "      <td>Albury</td>\n",
              "      <td>13.4</td>\n",
              "      <td>22.9</td>\n",
              "      <td>0.6</td>\n",
              "      <td>NaN</td>\n",
              "      <td>NaN</td>\n",
              "      <td>W</td>\n",
              "      <td>44.0</td>\n",
              "      <td>W</td>\n",
              "      <td>WNW</td>\n",
              "      <td>20.0</td>\n",
              "      <td>24.0</td>\n",
              "      <td>71.0</td>\n",
              "      <td>22.0</td>\n",
              "      <td>1007.7</td>\n",
              "      <td>1007.1</td>\n",
              "      <td>8.0</td>\n",
              "      <td>NaN</td>\n",
              "      <td>16.9</td>\n",
              "      <td>21.8</td>\n",
              "      <td>0.0</td>\n",
              "    </tr>\n",
              "    <tr>\n",
              "      <th>1</th>\n",
              "      <td>2008-12-02</td>\n",
              "      <td>Albury</td>\n",
              "      <td>7.4</td>\n",
              "      <td>25.1</td>\n",
              "      <td>0.0</td>\n",
              "      <td>NaN</td>\n",
              "      <td>NaN</td>\n",
              "      <td>WNW</td>\n",
              "      <td>44.0</td>\n",
              "      <td>NNW</td>\n",
              "      <td>WSW</td>\n",
              "      <td>4.0</td>\n",
              "      <td>22.0</td>\n",
              "      <td>44.0</td>\n",
              "      <td>25.0</td>\n",
              "      <td>1010.6</td>\n",
              "      <td>1007.8</td>\n",
              "      <td>NaN</td>\n",
              "      <td>NaN</td>\n",
              "      <td>17.2</td>\n",
              "      <td>24.3</td>\n",
              "      <td>0.0</td>\n",
              "    </tr>\n",
              "    <tr>\n",
              "      <th>2</th>\n",
              "      <td>2008-12-03</td>\n",
              "      <td>Albury</td>\n",
              "      <td>12.9</td>\n",
              "      <td>25.7</td>\n",
              "      <td>0.0</td>\n",
              "      <td>NaN</td>\n",
              "      <td>NaN</td>\n",
              "      <td>WSW</td>\n",
              "      <td>46.0</td>\n",
              "      <td>W</td>\n",
              "      <td>WSW</td>\n",
              "      <td>19.0</td>\n",
              "      <td>26.0</td>\n",
              "      <td>38.0</td>\n",
              "      <td>30.0</td>\n",
              "      <td>1007.6</td>\n",
              "      <td>1008.7</td>\n",
              "      <td>NaN</td>\n",
              "      <td>2.0</td>\n",
              "      <td>21.0</td>\n",
              "      <td>23.2</td>\n",
              "      <td>0.0</td>\n",
              "    </tr>\n",
              "    <tr>\n",
              "      <th>3</th>\n",
              "      <td>2008-12-04</td>\n",
              "      <td>Albury</td>\n",
              "      <td>9.2</td>\n",
              "      <td>28.0</td>\n",
              "      <td>0.0</td>\n",
              "      <td>NaN</td>\n",
              "      <td>NaN</td>\n",
              "      <td>NE</td>\n",
              "      <td>24.0</td>\n",
              "      <td>SE</td>\n",
              "      <td>E</td>\n",
              "      <td>11.0</td>\n",
              "      <td>9.0</td>\n",
              "      <td>45.0</td>\n",
              "      <td>16.0</td>\n",
              "      <td>1017.6</td>\n",
              "      <td>1012.8</td>\n",
              "      <td>NaN</td>\n",
              "      <td>NaN</td>\n",
              "      <td>18.1</td>\n",
              "      <td>26.5</td>\n",
              "      <td>0.0</td>\n",
              "    </tr>\n",
              "    <tr>\n",
              "      <th>4</th>\n",
              "      <td>2008-12-05</td>\n",
              "      <td>Albury</td>\n",
              "      <td>17.5</td>\n",
              "      <td>32.3</td>\n",
              "      <td>1.0</td>\n",
              "      <td>NaN</td>\n",
              "      <td>NaN</td>\n",
              "      <td>W</td>\n",
              "      <td>41.0</td>\n",
              "      <td>ENE</td>\n",
              "      <td>NW</td>\n",
              "      <td>7.0</td>\n",
              "      <td>20.0</td>\n",
              "      <td>82.0</td>\n",
              "      <td>33.0</td>\n",
              "      <td>1010.8</td>\n",
              "      <td>1006.0</td>\n",
              "      <td>7.0</td>\n",
              "      <td>8.0</td>\n",
              "      <td>17.8</td>\n",
              "      <td>29.7</td>\n",
              "      <td>0.0</td>\n",
              "    </tr>\n",
              "  </tbody>\n",
              "</table>\n",
              "</div>"
            ],
            "text/plain": [
              "         Date Location  MinTemp  MaxTemp  ...  Cloud3pm  Temp9am  Temp3pm RainToday\n",
              "0  2008-12-01   Albury     13.4     22.9  ...       NaN     16.9     21.8       0.0\n",
              "1  2008-12-02   Albury      7.4     25.1  ...       NaN     17.2     24.3       0.0\n",
              "2  2008-12-03   Albury     12.9     25.7  ...       2.0     21.0     23.2       0.0\n",
              "3  2008-12-04   Albury      9.2     28.0  ...       NaN     18.1     26.5       0.0\n",
              "4  2008-12-05   Albury     17.5     32.3  ...       8.0     17.8     29.7       0.0\n",
              "\n",
              "[5 rows x 22 columns]"
            ]
          },
          "metadata": {},
          "execution_count": 64
        }
      ]
    },
    {
      "cell_type": "code",
      "metadata": {
        "id": "ttEyC7ToIbqe",
        "colab": {
          "base_uri": "https://localhost:8080/",
          "height": 592
        },
        "outputId": "880d96e8-f476-49d4-a23e-bf8a7b81e1c7"
      },
      "source": [
        "numeric_data = X_train.select_dtypes([np.number])\n",
        "\n",
        "numeric_data_mean = numeric_data.mean()\n",
        "numeric_features = numeric_data.columns\n",
        "X_train = X_train.fillna(numeric_data_mean)\n",
        "X_test = X_test.fillna(numeric_data_mean)\n",
        "\n",
        "correlations = X_train[numeric_features].corrwith(y_train).sort_values(ascending=False)\n",
        "\n",
        "plot = sns.barplot(y=correlations.index, x=correlations)\n",
        "plot.figure.set_size_inches(15, 10)"
      ],
      "execution_count": null,
      "outputs": [
        {
          "output_type": "display_data",
          "data": {
            "image/png": "[encoded data removed]",
            "text/plain": [
              "<Figure size 1080x720 with 1 Axes>"
            ]
          },
          "metadata": {
            "needs_background": "light"
          }
        }
      ]
    },
    {
      "cell_type": "code",
      "metadata": {
        "id": "UBrOuEbkLoDv"
      },
      "source": [
        "logistic_model = LogisticRegression(solver='lbfgs', random_state=10)"
      ],
      "execution_count": null,
      "outputs": []
    },
    {
      "cell_type": "code",
      "metadata": {
        "colab": {
          "base_uri": "https://localhost:8080/"
        },
        "id": "IXWo7-6-L1mu",
        "outputId": "9cb5f224-3c4f-47d4-fa6e-1fba8fbabb28"
      },
      "source": [
        "logistic_model.fit(X_train[numeric_features], y_train)"
      ],
      "execution_count": null,
      "outputs": [
        {
          "output_type": "execute_result",
          "data": {
            "text/plain": [
              "LogisticRegression(C=1.0, class_weight=None, dual=False, fit_intercept=True,\n",
              "                   intercept_scaling=1, l1_ratio=None, max_iter=100,\n",
              "                   multi_class='auto', n_jobs=None, penalty='l2',\n",
              "                   random_state=10, solver='lbfgs', tol=0.0001, verbose=0,\n",
              "                   warm_start=False)"
            ]
          },
          "metadata": {},
          "execution_count": 55
        }
      ]
    },
    {
      "cell_type": "code",
      "metadata": {
        "id": "HCWDE50YMi6y"
      },
      "source": [
        "predicted_y = logistic_model.predict(X_test[numeric_features])"
      ],
      "execution_count": null,
      "outputs": []
    },
    {
      "cell_type": "code",
      "metadata": {
        "colab": {
          "base_uri": "https://localhost:8080/"
        },
        "id": "qTtP2JfQM0Nj",
        "outputId": "a55b6ab7-d789-4b59-fee8-47195ee5ebfa"
      },
      "source": [
        "print(f'accuracy: {round(logistic_model.score(X_test[numeric_features], y_test), 2)}')"
      ],
      "execution_count": null,
      "outputs": [
        {
          "output_type": "stream",
          "name": "stdout",
          "text": [
            "accuracy: 0.84\n"
          ]
        }
      ]
    },
    {
      "cell_type": "markdown",
      "metadata": {
        "id": "e5JKOKvEPRiV"
      },
      "source": [
        "### Метод k-ближайших соседей"
      ]
    },
    {
      "cell_type": "code",
      "metadata": {
        "id": "OFc3YZ99PVqg"
      },
      "source": [
        "from sklearn.neighbors import KNeighborsClassifier"
      ],
      "execution_count": null,
      "outputs": []
    },
    {
      "cell_type": "code",
      "metadata": {
        "id": "cOFfoVIQPl7P"
      },
      "source": [
        "# это будет долго!\n",
        "accuracy = []\n",
        "for n_neighbors in range(1, 50, 3):\n",
        "    model = KNeighborsClassifier(n_neighbors=n_neighbors)\n",
        "    model.fit(X_train[numeric_features], y_train)\n",
        "    accuracy.append( np.mean(model.predict(X_test[numeric_features]) == y_test))"
      ],
      "execution_count": null,
      "outputs": []
    },
    {
      "cell_type": "code",
      "metadata": {
        "colab": {
          "base_uri": "https://localhost:8080/",
          "height": 282
        },
        "id": "wvy93xU5Zh6o",
        "outputId": "b4247c4a-6a32-49c4-ee57-853e2263e9f8"
      },
      "source": [
        "plt.plot(range(1, 50, 3), accuracy)"
      ],
      "execution_count": null,
      "outputs": [
        {
          "output_type": "execute_result",
          "data": {
            "text/plain": [
              "[<matplotlib.lines.Line2D at 0x7fad7eb3cf50>]"
            ]
          },
          "metadata": {},
          "execution_count": 97
        },
        {
          "output_type": "display_data",
          "data": {
            "image/png": "[encoded data removed]",
            "text/plain": [
              "<Figure size 432x288 with 1 Axes>"
            ]
          },
          "metadata": {
            "needs_background": "light"
          }
        }
      ]
    },
    {
      "cell_type": "markdown",
      "metadata": {
        "id": "hwhHP4YcdNpp"
      },
      "source": [
        "Результат с 15-ю соседями дает ту же точность, что и на 50"
      ]
    },
    {
      "cell_type": "code",
      "metadata": {
        "colab": {
          "base_uri": "https://localhost:8080/"
        },
        "id": "nowk22hIddCL",
        "outputId": "064655ed-2ebf-4f00-b6aa-445fa4250adb"
      },
      "source": [
        "model = KNeighborsClassifier(n_neighbors=15)\n",
        "model.fit(X_train[numeric_features], y_train)"
      ],
      "execution_count": null,
      "outputs": [
        {
          "output_type": "execute_result",
          "data": {
            "text/plain": [
              "KNeighborsClassifier(algorithm='auto', leaf_size=30, metric='minkowski',\n",
              "                     metric_params=None, n_jobs=None, n_neighbors=15, p=2,\n",
              "                     weights='uniform')"
            ]
          },
          "metadata": {},
          "execution_count": 98
        }
      ]
    },
    {
      "cell_type": "code",
      "metadata": {
        "colab": {
          "base_uri": "https://localhost:8080/"
        },
        "id": "BrwXsgPcdooC",
        "outputId": "2a2e2605-5b89-45e9-c6f6-e538ffedf6b0"
      },
      "source": [
        "print(f'accuracy: {round(model.score(X_test[numeric_features], y_test), 2)}')"
      ],
      "execution_count": null,
      "outputs": [
        {
          "output_type": "stream",
          "name": "stdout",
          "text": [
            "accuracy: 0.84\n"
          ]
        }
      ]
    },
    {
      "cell_type": "markdown",
      "metadata": {
        "id": "clZ5mUFojpQY"
      },
      "source": [
        "### Байесовский классификатор"
      ]
    },
    {
      "cell_type": "code",
      "metadata": {
        "id": "OI24S-WYkQPr"
      },
      "source": [
        "from sklearn.naive_bayes import GaussianNB, BernoulliNB"
      ],
      "execution_count": null,
      "outputs": []
    },
    {
      "cell_type": "code",
      "metadata": {
        "id": "93xg_viSk96W"
      },
      "source": [
        "bayes_model_g = GaussianNB()"
      ],
      "execution_count": null,
      "outputs": []
    },
    {
      "cell_type": "code",
      "metadata": {
        "colab": {
          "base_uri": "https://localhost:8080/"
        },
        "id": "N3RvfB4Gk92_",
        "outputId": "4ecd649f-ae84-416d-ed5d-3058e10143b6"
      },
      "source": [
        "bayes_model_g.fit(X_train[numeric_features], y_train)"
      ],
      "execution_count": null,
      "outputs": [
        {
          "output_type": "execute_result",
          "data": {
            "text/plain": [
              "GaussianNB(priors=None, var_smoothing=1e-09)"
            ]
          },
          "metadata": {},
          "execution_count": 104
        }
      ]
    },
    {
      "cell_type": "code",
      "metadata": {
        "colab": {
          "base_uri": "https://localhost:8080/"
        },
        "id": "lWiQvirFmGqo",
        "outputId": "7c5e4076-5f1b-46df-8dd6-5a06629b2f81"
      },
      "source": [
        "print(f'accuracy: {round(bayes_model_g.score(X_test[numeric_features], y_test), 2)}')"
      ],
      "execution_count": null,
      "outputs": [
        {
          "output_type": "stream",
          "name": "stdout",
          "text": [
            "accuracy: 0.8\n"
          ]
        }
      ]
    },
    {
      "cell_type": "code",
      "metadata": {
        "id": "Nnnu04rDni_-"
      },
      "source": [
        "bayes_model_b = BernoulliNB()"
      ],
      "execution_count": null,
      "outputs": []
    },
    {
      "cell_type": "code",
      "metadata": {
        "colab": {
          "base_uri": "https://localhost:8080/"
        },
        "id": "-4iM-ZKons3U",
        "outputId": "6bd76a9b-2d5f-495e-e3fd-440e94454c62"
      },
      "source": [
        "bayes_model_b.fit(X_train[numeric_features], y_train)"
      ],
      "execution_count": null,
      "outputs": [
        {
          "output_type": "execute_result",
          "data": {
            "text/plain": [
              "BernoulliNB(alpha=1.0, binarize=0.0, class_prior=None, fit_prior=True)"
            ]
          },
          "metadata": {},
          "execution_count": 111
        }
      ]
    },
    {
      "cell_type": "code",
      "metadata": {
        "colab": {
          "base_uri": "https://localhost:8080/"
        },
        "id": "jiKnMVBgntLk",
        "outputId": "aa06b279-0bfd-4740-e266-e6a67696c8e3"
      },
      "source": [
        "print(f'accuracy: {round(bayes_model_b.score(X_test[numeric_features], y_test), 2)}')"
      ],
      "execution_count": null,
      "outputs": [
        {
          "output_type": "stream",
          "name": "stdout",
          "text": [
            "accuracy: 0.76\n"
          ]
        }
      ]
    },
    {
      "cell_type": "markdown",
      "metadata": {
        "id": "zkTVtWOT1eiY"
      },
      "source": [
        "### Реализация логистической регрессии\n",
        "__Логистическая регрессия__\n",
        "\n",
        "$$p(y|x) = a(x, \\theta) = \\sigma(\\langle x, \\theta \\rangle) = \\frac{1}{1 + \\exp(-\\langle \\theta, x_i \\rangle)}$$"
      ]
    },
    {
      "cell_type": "code",
      "metadata": {
        "id": "jVL3Ldau1eiZ"
      },
      "source": [
        "theta = np.array([1, 2, 3])\n",
        "\n",
        "X =  np.array([[ 1,  1, 1],\n",
        "               [-1, -2, 1],\n",
        "               [-1, -2, 2],\n",
        "               [-2, -2, -3]\n",
        "              ])\n",
        "\n",
        "y = np.array([1, 1, 0, 0])"
      ],
      "execution_count": null,
      "outputs": []
    },
    {
      "cell_type": "code",
      "metadata": {
        "colab": {
          "base_uri": "https://localhost:8080/"
        },
        "id": "HH_lBWegl1EV",
        "outputId": "56772558-6cf3-472e-ac17-f1938642984f"
      },
      "source": [
        "np.dot(X, theta)"
      ],
      "execution_count": null,
      "outputs": [
        {
          "output_type": "execute_result",
          "data": {
            "text/plain": [
              "array([  6,  -2,   1, -15])"
            ]
          },
          "metadata": {},
          "execution_count": 6
        }
      ]
    },
    {
      "cell_type": "code",
      "metadata": {
        "id": "a9jX-BJr1eib"
      },
      "source": [
        "def probability(theta, X):\n",
        "    result = 1.0 / (1 + np.exp(-np.dot(X, theta)))\n",
        "    return result\n",
        "prob = probability(theta, X)\n",
        "\n",
        "\n",
        "assert type(prob) == np.ndarray, 'Возвращается неверный тип'\n",
        "assert prob.shape == (X.shape[0],), 'Неверный размер массива'\n",
        "assert (prob.round(3) == [0.998, 0.119, 0.731, 0.]).all(), 'Функция считается неверно'"
      ],
      "execution_count": null,
      "outputs": []
    },
    {
      "cell_type": "markdown",
      "metadata": {
        "id": "2eOFKKSy1eid"
      },
      "source": [
        "Функция предсказания метки класса, получает на вход вероятности принадлежности к классу 1 и выдает метки классов $y \\in \\{0, 1\\}$"
      ]
    },
    {
      "cell_type": "code",
      "metadata": {
        "colab": {
          "base_uri": "https://localhost:8080/"
        },
        "id": "vw8V34YcnXqZ",
        "outputId": "fcc14be1-2444-4d43-f4c5-bfbe39e34863"
      },
      "source": [
        "prob =  probability(theta, X)\n",
        "result = np.where(prob > 0.5, 1, 0)\n",
        "result"
      ],
      "execution_count": null,
      "outputs": [
        {
          "output_type": "execute_result",
          "data": {
            "text/plain": [
              "array([1, 0, 1, 0])"
            ]
          },
          "metadata": {},
          "execution_count": 11
        }
      ]
    },
    {
      "cell_type": "code",
      "metadata": {
        "scrolled": true,
        "id": "jfoKAFT51eif"
      },
      "source": [
        "def binary_class_prediction(theta, X, threshold =.5):\n",
        "    prob =  probability(theta, X)\n",
        "    result = np.where(prob > threshold, 1, 0)\n",
        "    return result\n",
        "\n",
        "y_pred = binary_class_prediction(theta, X)\n",
        "\n",
        "\n",
        "assert type(y_pred) == np.ndarray, 'Возвращается неверный тип'\n",
        "assert y_pred.shape == (X.shape[0],), 'Неверный размер массива'\n",
        "assert min(y_pred) == 0, 'Функция считается неверно'\n",
        "assert max(y_pred) == 1, 'Функция считается неверно'"
      ],
      "execution_count": null,
      "outputs": []
    },
    {
      "cell_type": "markdown",
      "metadata": {
        "id": "6pt5cou31eih"
      },
      "source": [
        "__Функционал качества логистической регрессии__\n",
        "\n",
        "Запишем правдободовие выборки для меток класса $y \\in \\{+1, -1\\}$ \n",
        "\n",
        "$$Likelihood(a, X^\\ell) = \\prod_{i = 1}^{\\ell} a(x_i,\\theta)^{[y_i = +1]} (1 - a(x_i, \\theta))^{[y_i = -1]} → \\operatorname*{max}_{\\theta}$$ \n",
        "\n",
        "Прологарифмируем правдоподобие выборки и перейдем к задаче минимизации:\n",
        "\n",
        "$$Q(a, X^\\ell) =     -\\sum_{i = 1}^{\\ell} \n",
        "        [y_i = +1] \\log a(x_i, \\theta)\n",
        "        +\n",
        "        [y_i = -1] \\log (1 - a(x_i, \\theta)) \\to \\operatorname*{min}_{\\theta}$$ \n",
        "        \n",
        "Подставим $a(x, \\theta)$ в функцинал качества:\n",
        "\n",
        "$$ Q(a, X^\\ell) = -\\sum_{i = 1}^{\\ell} \\left(\n",
        "    [y_i = +1]\n",
        "    \\log \\frac{1}{1 + \\exp(-\\langle \\theta, x_i \\rangle)}\n",
        "    +\n",
        "    [y_i = -1]\n",
        "    \\log \\frac{\\exp(-\\langle \\theta, x_i \\rangle)}{1 + \\exp(-\\langle \\theta, x_i \\rangle)}\n",
        "\\right)\n",
        "=\\\\\n",
        "=\n",
        "-\\sum_{i = 1}^{\\ell} \\left(\n",
        "    [y_i = +1]\n",
        "    \\log \\frac{1}{1 + \\exp(-\\langle \\theta, x_i \\rangle)}\n",
        "    +\n",
        "    [y_i = -1]\n",
        "    \\log \\frac{1}{1 + \\exp(\\langle \\theta, x_i \\rangle)}\n",
        "\\right)\n",
        "=\\\\\n",
        "=\n",
        "\\sum_{i = 1}^{\\ell}\n",
        "    \\log \\left(\n",
        "        1 + \\exp(-y_i \\langle \\theta, x_i \\rangle)\n",
        "    \\right) $$\n",
        "    "
      ]
    },
    {
      "cell_type": "markdown",
      "metadata": {
        "id": "aS5BDpME1eij"
      },
      "source": [
        "Итоговый оптимизируемый функционал качества (logloss), записанный для меток классов $y \\in \\{+1, -1\\}$ и усредненный по выборке"
      ]
    },
    {
      "cell_type": "markdown",
      "metadata": {
        "id": "E3xxvP-21eik"
      },
      "source": [
        "$$Q(a, X^{\\ell}) = \\frac{1}{\\ell}\\sum_{i = 1}^{\\ell}\n",
        "    \\log \\left(\n",
        "        1 + \\exp(-y_i \\langle \\theta, x_i \\rangle)\n",
        "        \\right)\n",
        "   \\to \\operatorname*{min}_{\\theta}$$"
      ]
    },
    {
      "cell_type": "markdown",
      "metadata": {
        "id": "EJ9pv_Wh1eil"
      },
      "source": [
        "Реализуем его в функции logloss:"
      ]
    },
    {
      "cell_type": "code",
      "metadata": {
        "id": "jfhofoiq1eim"
      },
      "source": [
        "def logloss(theta, X, y): \n",
        "    y_revised = np.where(y == 0, -1, 1)\n",
        "    result = np.sum(np.log(1 + np.exp(-y_revised * np.dot(X, theta)))) / np.shape(y)[0]\n",
        "    return result"
      ],
      "execution_count": null,
      "outputs": []
    },
    {
      "cell_type": "code",
      "metadata": {
        "id": "4X-1zsjf1ein"
      },
      "source": [
        "assert logloss(theta, X, y).round(3) == 0.861, 'Функция считается неверно'"
      ],
      "execution_count": null,
      "outputs": []
    },
    {
      "cell_type": "markdown",
      "metadata": {
        "id": "y5328wDp1eio"
      },
      "source": [
        "__Алгоритм оптимизации функционала качества. Стохастический градиентный спуск__"
      ]
    },
    {
      "cell_type": "markdown",
      "metadata": {
        "id": "OqNNkESd1eip"
      },
      "source": [
        "<b>Вход: </b> Выборка $X^\\ell$, темп обучения $h$\n",
        "\n",
        "<b>Выход: </b> оптимальный вектор весов $\\theta$\n",
        "\n",
        "1.  Инициализировать веса $\\theta$\n",
        "2.  Инициализировать оценку функционала качества: $Q(a, X^\\ell)$\n",
        "3.  <b>Повторять</b>: \n",
        "\n",
        "    Выбрать случайным образом подвыборку объектов $X^{batch} =\\{x_1, \\dots,x_n \\}$ из $X^{\\ell}$\n",
        "    \n",
        "    Рассчитать градиент функционала качества: $\\nabla Q(X^{batch}, \\theta)$\n",
        "    \n",
        "    Обновить веса: $\\theta := \\theta - h\\cdot \\nabla Q(X^{batch}, \\theta)$\n",
        "       \n",
        "    <b>Пока</b> значение $Q$ и/или веса $\\theta$ не сойдутся   "
      ]
    },
    {
      "cell_type": "markdown",
      "metadata": {
        "id": "5XGGASMK1eip"
      },
      "source": [
        "Реализуем функцию рассчета градиента функционала качества"
      ]
    },
    {
      "cell_type": "markdown",
      "metadata": {
        "id": "HnhBbDrQ1eiq"
      },
      "source": [
        "$$\\frac{\\partial Q(a, X^{batch}) }{\\partial \\theta_j} =  \\frac{\\partial \\frac{1}{n}\\sum_{i = 1}^{n} \\log \\left( 1 + \\exp(- y_i \\langle \\theta, x_i \\rangle) \\right)} {\\partial \\theta_j} =\\frac{1}{n}\\sum_{i = 1}^{n} \\frac {1}{ 1 + \\exp(- y_i \\langle \\theta, x_i \\rangle)} \\cdot \\exp(- y_i \\langle \\theta, x_i \\rangle) \\cdot -y_i x_{ij}$$"
      ]
    },
    {
      "cell_type": "markdown",
      "metadata": {
        "id": "jJjyMjmw1eir"
      },
      "source": [
        "Реализуем рассчет градиента в матричном виде:"
      ]
    },
    {
      "cell_type": "code",
      "metadata": {
        "colab": {
          "base_uri": "https://localhost:8080/"
        },
        "id": "623mzFt7vLdn",
        "outputId": "39609bd3-482e-4ef3-8cc8-a7c7e0d4e29b"
      },
      "source": [
        "y_revised = np.where(y == 0, -1, 1)\n",
        "np.sum(-y_revised * X.T, axis=1)"
      ],
      "execution_count": null,
      "outputs": [
        {
          "output_type": "execute_result",
          "data": {
            "text/plain": [
              "array([-3, -3, -3])"
            ]
          },
          "metadata": {},
          "execution_count": 26
        }
      ]
    },
    {
      "cell_type": "code",
      "metadata": {
        "id": "WGtkWut-1eir"
      },
      "source": [
        "def gradient(theta, X, y):\n",
        "    y_revised = np.where(y == 0, -1, 1)\n",
        "    expr = np.exp(-y_revised * np.dot(X, theta))\n",
        "    result = np.sum(1.0 / (1 + expr) * expr * (-y_revised * X.T), axis=1) / np.shape(y)[0]\n",
        "    return result \n",
        "\n",
        "assert gradient(theta, X, y).shape == theta.shape, 'Неверный размер массива'"
      ],
      "execution_count": null,
      "outputs": []
    },
    {
      "cell_type": "markdown",
      "metadata": {
        "id": "KqP4na7Y1eis"
      },
      "source": [
        "Функция обучения\n",
        "\n"
      ]
    },
    {
      "cell_type": "code",
      "metadata": {
        "id": "43ajV_oo1eis"
      },
      "source": [
        "def fit(X, y, batch_size=10, h=0.05,  iters=100, plot=True):\n",
        "\n",
        "    # получаем размерности матрицы\n",
        "    size, dim = X.shape\n",
        "\n",
        "    # случайная начальная инициализация\n",
        "    theta = np.random.uniform(size=dim)\n",
        "    \n",
        "    errors = []\n",
        "    \n",
        "    theta_history = theta\n",
        "    colors = [plt.get_cmap('gist_rainbow')(i) for i in np.linspace(0,1,dim)]\n",
        "    \n",
        "    # plt \n",
        "    if plot:\n",
        "        fig = plt.figure(figsize=(15, 10))\n",
        "        ax1 = fig.add_subplot(221)\n",
        "        ax2 = fig.add_subplot(222)\n",
        "        ax3 = fig.add_subplot(212)\n",
        "        fig.suptitle('Gradient descent')\n",
        "        \n",
        "        \n",
        "    for _ in range(iters):  \n",
        "        \n",
        "        # берём случайный набор элементов\n",
        "        batch = np.random.choice(size, batch_size, replace=False)\n",
        "        X_batch = X[batch]\n",
        "        y_batch = y[batch]\n",
        "\n",
        "        # считаем производные\n",
        "        grad = gradient(theta, X_batch, y_batch)\n",
        "        \n",
        "        assert type(grad) == np.ndarray, 'неверный тип'\n",
        "        assert len(grad.shape) == 1, 'Необходимо вернуть одномерный вектор'\n",
        "        assert grad.shape[0] == len(theta), 'длина вектора должна быть равной количеству весов'\n",
        "        \n",
        "        \n",
        "        # Обновляем веса\n",
        "        \n",
        "        theta -= grad * h\n",
        "        \n",
        "        theta_history = np.vstack((theta_history, theta))\n",
        "        \n",
        "        # error\n",
        "        loss = logloss(theta, X, y)\n",
        "        errors.append(loss)\n",
        "        \n",
        "        if plot:\n",
        "            ax1.clear()            \n",
        "            ax1.scatter(range(dim), theta, label='Gradient solution')\n",
        "            ax1.legend(loc=\"upper left\")\n",
        "            ax1.set_title('theta')\n",
        "            ax1.set_ylabel(r'$\\bar \\beta$')\n",
        "            ax1.set_xlabel('weight ID')\n",
        "            \n",
        "            \n",
        "            ax2.plot(range(_+1), errors, 'g-')\n",
        "            ax2.set_title('logloss')\n",
        "            ax2.set_xlabel('itarations')\n",
        "            \n",
        "            ax3.plot(theta_history)\n",
        "            ax3.set_title('update theta')\n",
        "            ax3.set_ylabel('value')\n",
        "            ax3.set_xlabel('itarations')\n",
        "            time.sleep(0.05)\n",
        "            fig.canvas.draw()   \n",
        "            \n",
        "    return theta"
      ],
      "execution_count": null,
      "outputs": []
    },
    {
      "cell_type": "code",
      "metadata": {
        "id": "V5e-xwGk1eit"
      },
      "source": [
        "X, y = make_classification(n_samples=2000)"
      ],
      "execution_count": null,
      "outputs": []
    },
    {
      "cell_type": "code",
      "metadata": {
        "colab": {
          "base_uri": "https://localhost:8080/",
          "height": 677
        },
        "id": "gEtPhjtJ1eiu",
        "outputId": "faaf5435-d863-4b78-e3bc-b25899e138f8"
      },
      "source": [
        "optimal_theta = fit(X, y)"
      ],
      "execution_count": null,
      "outputs": [
        {
          "output_type": "display_data",
          "data": {
            "image/png": "[encoded data removed]",
            "text/plain": [
              "<Figure size 1080x720 with 3 Axes>"
            ]
          },
          "metadata": {
            "needs_background": "light"
          }
        }
      ]
    },
    {
      "cell_type": "code",
      "metadata": {
        "id": "tycDXNRf1eiu"
      },
      "source": [
        "y_pred = binary_class_prediction(optimal_theta, X)"
      ],
      "execution_count": null,
      "outputs": []
    },
    {
      "cell_type": "code",
      "metadata": {
        "colab": {
          "base_uri": "https://localhost:8080/"
        },
        "id": "GXuFsEOVxPRG",
        "outputId": "cc6b1079-5090-440a-ce7d-36b3d102772b"
      },
      "source": [
        "accuracy = np.mean(y_pred == y)\n",
        "print(f'accuracy: {round(accuracy, 2)}')"
      ],
      "execution_count": null,
      "outputs": [
        {
          "output_type": "stream",
          "name": "stdout",
          "text": [
            "accuracy: 0.89\n"
          ]
        }
      ]
    },
    {
      "cell_type": "markdown",
      "metadata": {
        "id": "qmaJQsCF10rR"
      },
      "source": [
        "### Выводы"
      ]
    },
    {
      "cell_type": "markdown",
      "metadata": {
        "id": "dBPqpLlg137x"
      },
      "source": [
        "Проанализировав данный датасет, я сделал вывод, что большинство признаков - числовые, также сделал простейший перевод одного важного категориального признака(RainToday) в числовой. Далее работал только с числовыми признаками."
      ]
    },
    {
      "cell_type": "markdown",
      "metadata": {
        "id": "ZFnygEdW3r7J"
      },
      "source": [
        "Построил модель на основе Logistic Regression, она хороша для бинарной классификации и на нашем датасете дала точность 84%, пользовался встроенными настройками sklearn, для нашей задачи выбрал алгоритм оптимизации 'lbfgs', имеющий l2 регуляризацию.\n",
        "Далее была построена модель k-соседей. Найден наименьший k, который дает наилучшую точность. Этот алгоритм самый тяжеловесный, особенно при поиске оптимального k. Получилась такая же точность что и в Логистической регрессии, 84%.\n",
        "Далее, построил байесовский классификатор на основе метода Гаусса и Бернулли. Результаты получились хуже, чем в предыдущих методах.\n",
        "В конце реализовал Логистическую регрессию с помощью матричных операций, на нашем сгенерированном пространстве он дал точность 89%.\n"
      ]
    },
    {
      "cell_type": "code",
      "source": [],
      "metadata": {
        "id": "cFfpvBcRANZP"
      },
      "execution_count": null,
      "outputs": []
    }
  ]
}